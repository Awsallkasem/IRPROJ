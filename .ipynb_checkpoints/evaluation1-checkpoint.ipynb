{
 "cells": [
  {
   "cell_type": "code",
   "id": "initial_id",
   "metadata": {
    "collapsed": true,
    "ExecuteTime": {
     "end_time": "2024-06-01T18:51:12.439554Z",
     "start_time": "2024-06-01T18:51:12.432530Z"
    }
   },
   "source": [
    "import numpy as np\n",
    "from collections import defaultdict\n",
    "from scipy.sparse import csr_matrix\n",
    "from similarity import calculate_similarity_in_batches, vectorizer, tfidf_matrix, docs\n",
    "from processquery import process"
   ],
   "execution_count": 30,
   "outputs": []
  },
  {
   "metadata": {
    "ExecuteTime": {
     "end_time": "2024-06-01T18:51:12.473449Z",
     "start_time": "2024-06-01T18:51:12.460592Z"
    }
   },
   "cell_type": "code",
   "source": [
    "def read_qrels(qrels_file_path):\n",
    "    qrels = defaultdict(dict)\n",
    "    query_counts = defaultdict(int)\n",
    "\n",
    "    with open(qrels_file_path, 'r') as qrels_file:\n",
    "        for line in qrels_file:\n",
    "            line_parts = line.strip().split(' ')\n",
    "            if len(line_parts) != 4:\n",
    "                print(\"Invalid line format:\", line)\n",
    "                continue\n",
    "\n",
    "            query_id, _, doc_id, relevance = line_parts\n",
    "            query_id = int(query_id)\n",
    "            doc_idd = doc_id.split('_')[0]\n",
    "\n",
    "            qrels[query_id][doc_idd] = int(relevance)\n",
    "            query_counts[query_id] += 1\n",
    "\n",
    "    return qrels, query_counts\n",
    "\n",
    "\n",
    "def read_queries(queries_file_path):\n",
    "    queries = {}\n",
    "    with open(queries_file_path, 'r') as queries_file:\n",
    "        for line in queries_file:\n",
    "            line_parts = line.strip().split(None, 1)\n",
    "            if len(line_parts) < 2:\n",
    "                continue\n",
    "            query_id = int(line_parts[0])\n",
    "            query = line_parts[1]\n",
    "            query = process(query)\n",
    "            queries[query_id] = query\n",
    "\n",
    "    return queries"
   ],
   "id": "2beee041bbfe19da",
   "execution_count": 31,
   "outputs": []
  },
  {
   "metadata": {
    "ExecuteTime": {
     "end_time": "2024-06-01T18:51:12.522034Z",
     "start_time": "2024-06-01T18:51:12.513942Z"
    }
   },
   "cell_type": "code",
   "source": [
    "def save_relevant_num(relevant_num_file, query_id, query, num_relevant, num_returned, precision_list, relevant_documents, query_counts):\n",
    "    relevant_num_file.write(f\"Query ID: {query_id}\\n\")\n",
    "    relevant_num_file.write(f\"Query: {query}\\n\")\n",
    "    relevant_num_file.write(f\"Query Count: {query_counts[query_id]}\\n\")\n",
    "    relevant_num_file.write(f\"Relevant Documents: {num_relevant}\\n\")\n",
    "    relevant_num_file.write(f\"Total Returned Documents: {num_returned}\\n\")\n",
    "    relevant_num_file.write(\"Precision List: \" + ', '.join(map(str, precision_list)) + \"\\n\")\n",
    "    relevant_num_file.write(\"\\n\".join(relevant_documents))\n",
    "    relevant_num_file.write(\"\\n\\n\")"
   ],
   "id": "88abe40c0cfb6a26",
   "execution_count": 32,
   "outputs": []
  },
  {
   "metadata": {
    "ExecuteTime": {
     "end_time": "2024-06-01T18:51:12.540199Z",
     "start_time": "2024-06-01T18:51:12.526224Z"
    }
   },
   "cell_type": "code",
   "source": [
    "def retrieve_similar_documents(query_id, query, qrels, similarity_scores):\n",
    "    # sorted_indices = np.argsort(similarity_scores, axis=1)[0, ::-1]\n",
    "    sorted_indices = np.argsort(similarity_scores)[::-1]  # Sort in descending order\n",
    "    threshold = 0.00000001\n",
    "    num_relevant = 0\n",
    "    num_returned = 0\n",
    "    relevant_documents = []\n",
    "    precision_list = []\n",
    "    Ap = []\n",
    "\n",
    "    for idx in sorted_indices:\n",
    "        similarity_score = similarity_scores[idx]\n",
    "        doc_id = list(docs.keys())[idx]\n",
    "        doc_idd = doc_id.split('_')[0]\n",
    "\n",
    "        if similarity_score > 0.1:\n",
    "            if similarity_score >= threshold and doc_idd in qrels.get(query_id, {}):\n",
    "                num_relevant += 1\n",
    "                relevant_documents.append(f\"Similarity Score: {similarity_score}, Document ID: {doc_id}, Document: {docs[doc_id]}\")\n",
    "                AP = num_relevant / num_returned if num_returned > 0 else 0.0\n",
    "                Ap.append(AP)\n",
    "\n",
    "            num_returned += 1\n",
    "            if num_returned >= 10:\n",
    "                break\n",
    "            precision = num_relevant / num_returned if num_returned > 0 else 0.0\n",
    "            precision_list.append(precision)\n",
    "            print(\"kkkkkkkkkkkkkkkkkkkkkkkkkkkkkkkk\")\n",
    "            print(precision_list)\n",
    "\n",
    "    Total = len(sorted_indices)\n",
    "\n",
    "    return num_relevant, num_returned, precision_list, Total, relevant_documents, Ap\n"
   ],
   "id": "8ede4ba90f39fa25",
   "execution_count": 33,
   "outputs": []
  },
  {
   "metadata": {
    "ExecuteTime": {
     "end_time": "2024-06-01T18:51:12.553288Z",
     "start_time": "2024-06-01T18:51:12.545629Z"
    }
   },
   "cell_type": "code",
   "source": [
    "def AP(Ap):\n",
    "    print(len(Ap))\n",
    "    return sum(Ap) / len(Ap) if len(Ap) > 0 else 0.0\n",
    "\n",
    "def calculate_average_precision(precision_list):\n",
    "    return sum(precision_list) / len(precision_list) if len(precision_list) > 0 else 0.0\n",
    "\n",
    "def calculate_recall(num_relevant, query_count):\n",
    "    return num_relevant / query_count"
   ],
   "id": "c023289709b24f53",
   "execution_count": 34,
   "outputs": []
  },
  {
   "metadata": {
    "ExecuteTime": {
     "end_time": "2024-06-01T18:51:12.608892Z",
     "start_time": "2024-06-01T18:51:12.594807Z"
    }
   },
   "cell_type": "code",
   "source": [
    "def process_queries(qrels_file_path, queries_file_path, relevant_num_file_path):\n",
    "    qrels, query_counts = read_qrels(qrels_file_path)\n",
    "    queries = read_queries(queries_file_path)\n",
    "    average_precisions = []\n",
    "    MAP=[]\n",
    "\n",
    "    with open(relevant_num_file_path, 'w') as relevant_num_file:\n",
    "        for query_id, query in queries.items():\n",
    "            print(\"Query ID:\", query_id)\n",
    "            print(\"Query:\", query)\n",
    "\n",
    "            if query_id not in qrels:\n",
    "                print(\"No relevance judgments found for this query.\")\n",
    "                continue\n",
    "\n",
    "            query_vector = vectorizer.transform([query])\n",
    "            similarity_scores = calculate_similarity_in_batches(query_vector, tfidf_matrix)\n",
    "\n",
    "            num_relevant, num_returned, precision_list, Total, relevant_documents, Ap = retrieve_similar_documents(query_id, query, qrels, similarity_scores)\n",
    "\n",
    "            save_relevant_num(relevant_num_file, query_id, query, num_relevant, num_returned, precision_list, relevant_documents, query_counts)\n",
    "\n",
    "            average_precision = calculate_average_precision(precision_list)\n",
    "            recall = calculate_recall(num_relevant, query_counts[query_id])\n",
    "\n",
    "            average_precisions.append(average_precision)\n",
    "            print(\"Average Precision:\", average_precision)\n",
    "            print(\"Recall:\", recall)\n",
    "\n",
    "            ap = AP(Ap)  # Calculate AP for the current query\n",
    "            MAP.append(ap)\n",
    "\n",
    "\n",
    "            print(\"AP:\", ap)\n",
    "\n",
    "            print(\"--------------------------------------\")\n",
    "        mean_ap = np.mean(MAP)\n",
    "\n",
    "    return average_precisions, mean_ap\n"
   ],
   "id": "3c336c1280cdea95",
   "execution_count": 35,
   "outputs": []
  },
  {
   "metadata": {
    "jupyter": {
     "is_executing": true
    },
    "ExecuteTime": {
     "start_time": "2024-06-01T18:51:12.669282Z"
    }
   },
   "cell_type": "code",
   "source": [
    "# Set file paths\n",
    "qrels_file_path = r\"C:\\Users\\user\\Documents\\IRSystem1\\qrel1.txt\"\n",
    "queries_file_path = r\"C:\\Users\\user\\Documents\\IRSystem1\\queries1.txt\"\n",
    "relevant_num_file_path = r\"C:\\Users\\user\\Documents\\IRSystem1\\relevanttt_num_queries.txt\"\n",
    "\n",
    "# Process queries\n",
    "average_precisions, mean_ap = process_queries(qrels_file_path, queries_file_path, relevant_num_file_path)\n",
    "\n",
    "# print(\"Mean Average Precision:\", np.mean(average_precisions))\n",
    "print(\"Mean AP:\", mean_ap)"
   ],
   "id": "c7f113e26c3f765c",
   "execution_count": null,
   "outputs": []
  }
 ],
 "metadata": {
  "kernelspec": {
   "display_name": "Python 3",
   "language": "python",
   "name": "python3"
  },
  "language_info": {
   "codemirror_mode": {
    "name": "ipython",
    "version": 2
   },
   "file_extension": ".py",
   "mimetype": "text/x-python",
   "name": "python",
   "nbconvert_exporter": "python",
   "pygments_lexer": "ipython2",
   "version": "2.7.6"
  }
 },
 "nbformat": 4,
 "nbformat_minor": 5
}
