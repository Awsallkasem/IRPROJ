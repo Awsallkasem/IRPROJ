{
 "cells": [
  {
   "cell_type": "code",
   "id": "37ac1b6b-b393-432c-bf44-18f5efc9eb9c",
   "metadata": {
    "id": "37ac1b6b-b393-432c-bf44-18f5efc9eb9c",
    "ExecuteTime": {
     "end_time": "2024-05-29T15:07:14.415584Z",
     "start_time": "2024-05-29T15:07:12.161196Z"
    }
   },
   "source": [
    "import os\n",
    "import pickle\n",
    "from sklearn.feature_extraction.text import TfidfVectorizer\n"
   ],
   "execution_count": 1,
   "outputs": []
  },
  {
   "cell_type": "code",
   "id": "a11ee789-f622-4a24-a325-0323d6b6bd91",
   "metadata": {
    "id": "a11ee789-f622-4a24-a325-0323d6b6bd91",
    "ExecuteTime": {
     "end_time": "2024-05-29T15:07:14.436046Z",
     "start_time": "2024-05-29T15:07:14.419732Z"
    }
   },
   "source": [
    "docs = {}\n",
    "\n",
    "def read_docs_from_folder(folder_path):\n",
    "    for file_name in os.listdir(folder_path):\n",
    "        file_path = os.path.join(folder_path, file_name)\n",
    "        if os.path.isfile(file_path):\n",
    "            with open(file_path, 'r', encoding='utf-8') as file:\n",
    "                doc_text = file.read()\n",
    "            doc_id = os.path.splitext(file_name)[0]  # Use the file name without extension as the document ID\n",
    "            docs[doc_id] = doc_text\n",
    "\n",
    "def calculate_tfidf_matrix(docs):\n",
    "    vectorizer = TfidfVectorizer()\n",
    "    tfidf_matrix = vectorizer.fit_transform(docs.values())\n",
    "    return tfidf_matrix, vectorizer\n",
    "\n",
    "def save_tfidf_matrix(tfidf_matrix, vectorizer, file_path):\n",
    "    with open(file_path, 'wb') as tfidf_file:\n",
    "        pickle.dump((tfidf_matrix, vectorizer), tfidf_file)\n",
    "\n",
    "def build_inverted_index(tfidf_matrix, vectorizer, docs):\n",
    "    inverted_index = {}\n",
    "    feature_names = vectorizer.get_feature_names_out()\n",
    "\n",
    "    for doc_id, doc_text in docs.items():\n",
    "        doc_idx = list(docs.keys()).index(doc_id)\n",
    "        feature_values = tfidf_matrix[doc_idx].toarray().flatten()\n",
    "        for feature_idx, tfidf_value in enumerate(feature_values):\n",
    "            if tfidf_value > 0:\n",
    "                feature_name = feature_names[feature_idx]\n",
    "                if feature_name in inverted_index:\n",
    "                    inverted_index[feature_name][doc_id] = tfidf_value\n",
    "                else:\n",
    "                    inverted_index[feature_name] = {doc_id: tfidf_value}\n",
    "    return inverted_index\n"
   ],
   "execution_count": 2,
   "outputs": []
  },
  {
   "cell_type": "code",
   "id": "d11e707e-1b2c-458b-a0ff-43ec7e42d6d5",
   "metadata": {
    "id": "d11e707e-1b2c-458b-a0ff-43ec7e42d6d5",
    "outputId": "5b591832-8e31-4c0c-e669-4fc2fd90024b"
   },
   "source": [
    "# Specify the folder path where preprocessed documents are stored\n",
    "folder_path = r\"C:\\Users\\user\\Documents\\IRSystem1\\new_docs\"\n",
    "\n",
    "# Read documents from the folder\n",
    "read_docs_from_folder(folder_path)\n",
    "\n",
    "# Print number of documents loaded\n",
    "print(f\"Loaded {len(docs)} documents.\")\n"
   ],
   "execution_count": null,
   "outputs": []
  },
  {
   "cell_type": "code",
   "id": "d97865b7-cbd6-4e12-9c21-3c574756f2f3",
   "metadata": {
    "id": "d97865b7-cbd6-4e12-9c21-3c574756f2f3",
    "outputId": "b5c8f3d9-2e0e-4e68-d129-c09c6b3257df"
   },
   "source": [
    "# Calculate TF-IDF matrix\n",
    "tfidf_matrix, vectorizer = calculate_tfidf_matrix(docs)\n",
    "\n",
    "# Build inverted index\n",
    "inverted_index = build_inverted_index(tfidf_matrix, vectorizer, docs)\n",
    "\n",
    "# Print a sample of the inverted index\n",
    "print(\"Sample of inverted index:\")\n",
    "for term, doc_dict in list(inverted_index.items())[:5]:\n",
    "    print(f\"{term}: {doc_dict}\")\n"
   ],
   "execution_count": null,
   "outputs": []
  },
  {
   "cell_type": "code",
   "id": "0e5041c2-d981-4c07-aa9c-590ccacee21d",
   "metadata": {
    "id": "0e5041c2-d981-4c07-aa9c-590ccacee21d",
    "outputId": "c366441d-5679-4283-d88c-45dd9d27164c"
   },
   "source": [
    "# Save the TF-IDF matrix and vectorizer to a file\n",
    "tfidf_file_path = r\"C:\\Users\\user\\Documents\\IRSystem1\\tfidf_matrix_new.pkl\"\n",
    "save_tfidf_matrix(tfidf_matrix, vectorizer, tfidf_file_path)\n",
    "\n",
    "# Save the inverted index to a file\n",
    "inverted_index_file_path = r\"C:\\Users\\user\\Documents\\IRSystem1\\inverted_index_new.pkl\"\n",
    "with open(inverted_index_file_path, 'wb') as file:\n",
    "    pickle.dump(inverted_index, file)\n",
    "\n",
    "# Save the docs variable as a pickle file\n",
    "docs_file_path = r\"C:\\Users\\user\\Documents\\IRSystem1\\docs12.pkl\"\n",
    "with open(docs_file_path, 'wb') as file:\n",
    "    pickle.dump(docs, file)\n",
    "\n",
    "print(\"TF-IDF matrix, inverted index, and documents have been saved successfully.\")\n"
   ],
   "execution_count": null,
   "outputs": []
  }
 ],
 "metadata": {
  "kernelspec": {
   "display_name": "Python 3 (ipykernel)",
   "language": "python",
   "name": "python3"
  },
  "language_info": {
   "codemirror_mode": {
    "name": "ipython",
    "version": 3
   },
   "file_extension": ".py",
   "mimetype": "text/x-python",
   "name": "python",
   "nbconvert_exporter": "python",
   "pygments_lexer": "ipython3",
   "version": "3.11.7"
  },
  "colab": {
   "provenance": []
  }
 },
 "nbformat": 4,
 "nbformat_minor": 5
}
