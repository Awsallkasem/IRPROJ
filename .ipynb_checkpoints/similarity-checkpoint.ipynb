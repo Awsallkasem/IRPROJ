{
 "cells": [
  {
   "cell_type": "code",
   "execution_count": null,
   "id": "ec91caea-4e4a-413e-b80a-344ec28afcdd",
   "metadata": {
    "id": "ec91caea-4e4a-413e-b80a-344ec28afcdd"
   },
   "source": [
    "import pickle\n",
    "from sklearn.feature_extraction.text import TfidfVectorizer\n",
    "from sklearn.metrics.pairwise import cosine_similarity\n"
   ],
   "outputs": []
  },
  {
   "cell_type": "code",
   "execution_count": null,
   "id": "314b6cd9-a25b-42f9-9c6f-1d5fa0baec92",
   "metadata": {
    "id": "314b6cd9-a25b-42f9-9c6f-1d5fa0baec92"
   },
   "source": [
    "tfidf_file_path = r\"C:\\Users\\user\\Documents\\IRSystem1\\tfidf_matrix_new.pkl\"\n",
    "inverted_index_file_path = r\"C:\\Users\\user\\Documents\\IRSystem1\\inverted_index_new.pkl\"\n",
    "docs_file_path = r\"C:\\Users\\user\\Documents\\IRSystem1\\docs12.pkl\"\n",
    "\n",
    "def load_tfidf_matrix(file_path):\n",
    "    with open(file_path, 'rb') as tfidf_file:\n",
    "        tfidf_matrix, vectorizer = pickle.load(tfidf_file)\n",
    "    return tfidf_matrix, vectorizer\n",
    "\n",
    "def load_inverted_index(file_path):\n",
    "    with open(file_path, 'rb') as file:\n",
    "        inverted_index = pickle.load(file)\n",
    "    return inverted_index\n",
    "\n",
    "def load_docs(file_path):\n",
    "    with open(file_path, 'rb') as file:\n",
    "        docs = pickle.load(file)\n",
    "    return docs\n",
    "\n",
    "tfidf_matrix, vectorizer = load_tfidf_matrix(tfidf_file_path)\n",
    "inverted_index = load_inverted_index(inverted_index_file_path)\n",
    "docs = load_docs(docs_file_path)"
   ],
   "outputs": []
  },
  {
   "cell_type": "code",
   "execution_count": null,
   "id": "b6702fa9-8141-4b63-9b02-6ac9f506f129",
   "metadata": {
    "id": "b6702fa9-8141-4b63-9b02-6ac9f506f129"
   },
   "source": [
    "def calculate_similarity(query_vector, tfidf_matrix):\n",
    "    similarity_scores = cosine_similarity(query_vector.reshape(1, -1), tfidf_matrix)\n",
    "    return similarity_scores"
   ],
   "outputs": []
  },
  {
   "cell_type": "code",
   "execution_count": null,
   "id": "ee663a82-4b24-4fe2-9f0d-d76551f33333",
   "metadata": {
    "id": "ee663a82-4b24-4fe2-9f0d-d76551f33333"
   },
   "source": [
    "#للتجربة فقط\n",
    "# def process_query(query, vectorizer, tfidf_matrix, docs):\n",
    "#     query_vector = vectorizer.transform([query])\n",
    "#     similarity_scores = calculate_similarity(query_vector, tfidf_matrix)\n",
    "\n",
    "#     # Convert similarity scores to a list of (doc_id, score) tuples\n",
    "#     results = [(doc_id, score) for doc_id, score in zip(docs.keys(), similarity_scores.flatten())]\n",
    "#     # Sort results by score in descending order\n",
    "#     sorted_results = sorted(results, key=lambda x: x[1], reverse=True)\n",
    "\n",
    "#     return sorted_results"
   ],
   "outputs": []
  },
  {
   "cell_type": "code",
   "execution_count": null,
   "id": "af2e796b-77f2-4658-bb5c-147dc6ebe026",
   "metadata": {
    "id": "af2e796b-77f2-4658-bb5c-147dc6ebe026",
    "outputId": "833db3ae-e757-49bc-cae3-7690d03b2cbf"
   },
   "source": [
    "# query = \"example search\"\n",
    "# results = process_query(query, vectorizer, tfidf_matrix, docs)\n",
    "# print(\"Search results:\", results)\n"
   ],
   "outputs": []
  },
  {
   "cell_type": "code",
   "execution_count": null,
   "id": "f044a08d-8ac1-4037-945e-f9134cf498f0",
   "metadata": {
    "id": "f044a08d-8ac1-4037-945e-f9134cf498f0",
    "outputId": "dff1f899-b882-44ae-d4db-63c8c6f29040"
   },
   "source": [
    "#Display First Part of Results\n",
    "# N = 5\n",
    "# half = N // 2\n",
    "# for doc_id, score in results[:half]:\n",
    "#     print(f\"Document ID: {doc_id}, Similarity Score: {score}\")\n",
    "#     print(docs[doc_id][:500])  # Display the first 500 characters of the document\n",
    "#     print(\"...\")\n",
    "#     print(\"-----------------------------\")"
   ],
   "outputs": []
  },
  {
   "cell_type": "code",
   "execution_count": null,
   "id": "bccc0280-df10-473c-af50-aa56281a6b66",
   "metadata": {
    "id": "bccc0280-df10-473c-af50-aa56281a6b66",
    "outputId": "b9ca8161-1d60-4f71-d1ef-f418ca0c6d44"
   },
   "source": [
    "#Display Second Part of Results\n",
    "# for doc_id, score in results[half:N]:\n",
    "#     print(f\"Document ID: {doc_id}, Similarity Score: {score}\")\n",
    "#     print(docs[doc_id][:500])  # Display the first 500 characters of the document\n",
    "#     print(\"...\")\n",
    "#     print(\"-----------------------------\")"
   ],
   "outputs": []
  }
 ],
 "metadata": {
  "kernelspec": {
   "display_name": "Python 3 (ipykernel)",
   "language": "python",
   "name": "python3"
  },
  "language_info": {
   "codemirror_mode": {
    "name": "ipython",
    "version": 3
   },
   "file_extension": ".py",
   "mimetype": "text/x-python",
   "name": "python",
   "nbconvert_exporter": "python",
   "pygments_lexer": "ipython3",
   "version": "3.11.7"
  },
  "colab": {
   "provenance": []
  }
 },
 "nbformat": 4,
 "nbformat_minor": 5
}
